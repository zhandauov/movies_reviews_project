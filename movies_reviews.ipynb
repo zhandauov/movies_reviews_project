{
  "nbformat": 4,
  "nbformat_minor": 0,
  "metadata": {
    "colab": {
      "name": "movies_reviews.ipynb",
      "provenance": []
    },
    "kernelspec": {
      "name": "python3",
      "display_name": "Python 3"
    },
    "accelerator": "GPU"
  },
  "cells": [
    {
      "cell_type": "code",
      "metadata": {
        "id": "WDS6dmm3mh_f",
        "colab_type": "code",
        "outputId": "127ca77e-e423-4ea1-ca0f-7d8a7e7aeee0",
        "colab": {
          "base_uri": "https://localhost:8080/",
          "height": 204
        }
      },
      "source": [
        "import numpy as np\n",
        "import pandas as pd\n",
        "\n",
        "data = pd.read_csv('movies_reviews_dataset/reviews.csv')\n",
        "data.head(5)"
      ],
      "execution_count": 43,
      "outputs": [
        {
          "output_type": "execute_result",
          "data": {
            "text/html": [
              "<div>\n",
              "<style scoped>\n",
              "    .dataframe tbody tr th:only-of-type {\n",
              "        vertical-align: middle;\n",
              "    }\n",
              "\n",
              "    .dataframe tbody tr th {\n",
              "        vertical-align: top;\n",
              "    }\n",
              "\n",
              "    .dataframe thead th {\n",
              "        text-align: right;\n",
              "    }\n",
              "</style>\n",
              "<table border=\"1\" class=\"dataframe\">\n",
              "  <thead>\n",
              "    <tr style=\"text-align: right;\">\n",
              "      <th></th>\n",
              "      <th>review</th>\n",
              "      <th>sentiment</th>\n",
              "    </tr>\n",
              "  </thead>\n",
              "  <tbody>\n",
              "    <tr>\n",
              "      <th>0</th>\n",
              "      <td>One of the other reviewers has mentioned that ...</td>\n",
              "      <td>positive</td>\n",
              "    </tr>\n",
              "    <tr>\n",
              "      <th>1</th>\n",
              "      <td>A wonderful little production. &lt;br /&gt;&lt;br /&gt;The...</td>\n",
              "      <td>positive</td>\n",
              "    </tr>\n",
              "    <tr>\n",
              "      <th>2</th>\n",
              "      <td>I thought this was a wonderful way to spend ti...</td>\n",
              "      <td>positive</td>\n",
              "    </tr>\n",
              "    <tr>\n",
              "      <th>3</th>\n",
              "      <td>Basically there's a family where a little boy ...</td>\n",
              "      <td>negative</td>\n",
              "    </tr>\n",
              "    <tr>\n",
              "      <th>4</th>\n",
              "      <td>Petter Mattei's \"Love in the Time of Money\" is...</td>\n",
              "      <td>positive</td>\n",
              "    </tr>\n",
              "  </tbody>\n",
              "</table>\n",
              "</div>"
            ],
            "text/plain": [
              "                                              review sentiment\n",
              "0  One of the other reviewers has mentioned that ...  positive\n",
              "1  A wonderful little production. <br /><br />The...  positive\n",
              "2  I thought this was a wonderful way to spend ti...  positive\n",
              "3  Basically there's a family where a little boy ...  negative\n",
              "4  Petter Mattei's \"Love in the Time of Money\" is...  positive"
            ]
          },
          "metadata": {
            "tags": []
          },
          "execution_count": 43
        }
      ]
    },
    {
      "cell_type": "code",
      "metadata": {
        "id": "aXI4l1PenMbV",
        "colab_type": "code",
        "colab": {}
      },
      "source": [
        "X = data['review']\n",
        "y = data['sentiment']\n",
        "X = X.str.lower()\n",
        "y = y.replace(to_replace='positive', value=1)\n",
        "y = y.replace(to_replace='negative', value=0)"
      ],
      "execution_count": 0,
      "outputs": []
    },
    {
      "cell_type": "code",
      "metadata": {
        "id": "86SQbMOB2P-R",
        "colab_type": "code",
        "colab": {
          "base_uri": "https://localhost:8080/",
          "height": 51
        },
        "outputId": "b63c1007-3955-460a-c823-9c505e6ff205"
      },
      "source": [
        "import nltk\n",
        "nltk.download('stopwords')\n",
        "stop_words = ['i',\n",
        " 'me','my','myself','we','our','ours','ourselves','you',\n",
        " \"you're\",\"you've\",\"you'll\",\"you'd\",'your','yours','yourself','yourselves','he',\n",
        " 'him','his','himself','she',\"she's\",'her',\n",
        " 'hers','herself','it',\"it's\",'its','itself','they',\n",
        " 'them','their','theirs','themselves','what','which','who',\n",
        " 'whom','this','that',\"that'll\",'these','those','am','is','are','was','were',\n",
        " 'be','been','being','have','has','had',\n",
        " 'having','do','does','did','doing','a','an','the','and','but','if',\n",
        " 'or','because','as','until','while','of','at','by','for',\n",
        " 'with','about','against','between','into','through','during','before','after','above',\n",
        " 'below','to','from','up','down','in','out','on','off','over','under',\n",
        " 'again','further','then','once','here','there','when','where','why',\n",
        " 'how','all','any','both','each','few','more','most','other', 'some', 'such',]"
      ],
      "execution_count": 67,
      "outputs": [
        {
          "output_type": "stream",
          "text": [
            "[nltk_data] Downloading package stopwords to /root/nltk_data...\n",
            "[nltk_data]   Package stopwords is already up-to-date!\n"
          ],
          "name": "stdout"
        }
      ]
    },
    {
      "cell_type": "code",
      "metadata": {
        "id": "jCbsDzW-0jvV",
        "colab_type": "code",
        "colab": {
          "base_uri": "https://localhost:8080/",
          "height": 102
        },
        "outputId": "a1c6f9b5-996f-4ccc-82f6-79827fc187ef"
      },
      "source": [
        "for i in range (len(X)):\n",
        "  temp = X[i].split()\n",
        "  if len(temp) > 220:\n",
        "    temp = temp[:120]\n",
        "  temp = [word for word in temp if not word in stop_words]\n",
        "  X[i] = \" \".join(temp)\n",
        "  if (i%10000 == 0 or i==49999) and i != 0:\n",
        "    print(i)"
      ],
      "execution_count": 81,
      "outputs": [
        {
          "output_type": "stream",
          "text": [
            "10000\n",
            "20000\n",
            "30000\n",
            "40000\n",
            "49999\n"
          ],
          "name": "stdout"
        }
      ]
    },
    {
      "cell_type": "code",
      "metadata": {
        "id": "8xnfhQkMnv8i",
        "colab_type": "code",
        "colab": {}
      },
      "source": [
        "vocab_size = 15000\n",
        "oov_tok = \"<OOV>\"\n",
        "max_length = 80 #the maximum length of review text"
      ],
      "execution_count": 0,
      "outputs": []
    },
    {
      "cell_type": "code",
      "metadata": {
        "id": "VTKc-SmoX0uf",
        "colab_type": "code",
        "colab": {
          "base_uri": "https://localhost:8080/",
          "height": 102
        },
        "outputId": "904fabd0-15e3-48be-ba52-8b6fb86af91a"
      },
      "source": [
        "import nltk\n",
        "nltk.download('stopwords')\n",
        "nltk.download('word_tokenize')"
      ],
      "execution_count": 26,
      "outputs": [
        {
          "output_type": "stream",
          "text": [
            "[nltk_data] Downloading package stopwords to /root/nltk_data...\n",
            "[nltk_data]   Package stopwords is already up-to-date!\n",
            "[nltk_data] Error loading word_tokenize: Package 'word_tokenize' not\n",
            "[nltk_data]     found in index\n"
          ],
          "name": "stdout"
        },
        {
          "output_type": "execute_result",
          "data": {
            "text/plain": [
              "False"
            ]
          },
          "metadata": {
            "tags": []
          },
          "execution_count": 26
        }
      ]
    },
    {
      "cell_type": "code",
      "metadata": {
        "id": "1ixZmtq1aOuy",
        "colab_type": "code",
        "colab": {}
      },
      "source": [
        "stop_words = nltk.corpus.stopwords.words('english')"
      ],
      "execution_count": 0,
      "outputs": []
    },
    {
      "cell_type": "code",
      "metadata": {
        "id": "eV4QHKg6ca5B",
        "colab_type": "code",
        "colab": {}
      },
      "source": [
        "check = \"one of the other reviewers has mentioned that after watching just 1 oz episode you'll be hooked.\"\n",
        "check = [word for word in check if word not in stop_words]"
      ],
      "execution_count": 0,
      "outputs": []
    },
    {
      "cell_type": "code",
      "metadata": {
        "id": "YRtvuEiwks8t",
        "colab_type": "code",
        "colab": {
          "base_uri": "https://localhost:8080/",
          "height": 119
        },
        "outputId": "467fe4d8-8756-4e8b-c858-7536d5edaf55"
      },
      "source": [
        "X.head(5)"
      ],
      "execution_count": 85,
      "outputs": [
        {
          "output_type": "execute_result",
          "data": {
            "text/plain": [
              "0    one reviewers mentioned watching just 1 oz epi...\n",
              "1    wonderful little production. <br /><br />the f...\n",
              "2    thought wonderful way spend time too hot summe...\n",
              "3    basically there's family little boy (jake) thi...\n",
              "4    petter mattei's \"love time money\" visually stu...\n",
              "Name: review, dtype: object"
            ]
          },
          "metadata": {
            "tags": []
          },
          "execution_count": 85
        }
      ]
    },
    {
      "cell_type": "code",
      "metadata": {
        "id": "tSbCKVZAnwW3",
        "colab_type": "code",
        "colab": {}
      },
      "source": [
        "from tensorflow.keras.preprocessing.text import Tokenizer\n",
        "from tensorflow.keras.preprocessing.sequence import pad_sequences\n",
        "\n",
        "tokenizer = Tokenizer(num_words = vocab_size, oov_token=oov_tok)\n",
        "tokenizer.fit_on_texts(X)\n",
        "word_index = tokenizer.word_index\n",
        "\n",
        "sequences = tokenizer.texts_to_sequences(X)\n",
        "padded = pad_sequences(sequences, maxlen=max_length, padding='post', truncating='post')"
      ],
      "execution_count": 0,
      "outputs": []
    },
    {
      "cell_type": "code",
      "metadata": {
        "id": "mEhInLeI5naF",
        "colab_type": "code",
        "colab": {
          "base_uri": "https://localhost:8080/",
          "height": 34
        },
        "outputId": "4f9b03f7-b5a0-4ed5-883f-b88282b71a29"
      },
      "source": [
        "len(word_index)"
      ],
      "execution_count": 87,
      "outputs": [
        {
          "output_type": "execute_result",
          "data": {
            "text/plain": [
              "93435"
            ]
          },
          "metadata": {
            "tags": []
          },
          "execution_count": 87
        }
      ]
    },
    {
      "cell_type": "code",
      "metadata": {
        "id": "IwK08A3anwSt",
        "colab_type": "code",
        "colab": {}
      },
      "source": [
        "from sklearn.model_selection import train_test_split\n",
        "\n",
        "X_train, X_test, y_train, y_test = train_test_split(padded, y, test_size=0.2, random_state=42)\n",
        "y_train, y_test = y_train.values, y_test.values"
      ],
      "execution_count": 0,
      "outputs": []
    },
    {
      "cell_type": "code",
      "metadata": {
        "id": "djcXUNeTn4VD",
        "colab_type": "code",
        "colab": {}
      },
      "source": [
        "#hyperparameters\n",
        "embedding_dim = 100\n",
        "num_epochs = 10"
      ],
      "execution_count": 0,
      "outputs": []
    },
    {
      "cell_type": "code",
      "metadata": {
        "id": "lcEJv1Ezn4cf",
        "colab_type": "code",
        "colab": {}
      },
      "source": [
        "import tensorflow as tf"
      ],
      "execution_count": 0,
      "outputs": []
    },
    {
      "cell_type": "code",
      "metadata": {
        "id": "rs-yFJhGn61D",
        "colab_type": "code",
        "outputId": "ea411093-f2c0-4327-9dc7-c4fe0bacca59",
        "colab": {
          "base_uri": "https://localhost:8080/",
          "height": 34
        }
      },
      "source": [
        "total_words = len(tokenizer.word_index)\n",
        "total_words"
      ],
      "execution_count": 35,
      "outputs": [
        {
          "output_type": "execute_result",
          "data": {
            "text/plain": [
              "124253"
            ]
          },
          "metadata": {
            "tags": []
          },
          "execution_count": 35
        }
      ]
    },
    {
      "cell_type": "code",
      "metadata": {
        "id": "20Dy9yHtn68r",
        "colab_type": "code",
        "outputId": "2ba7826a-ba15-4aed-a66f-f763a9c63de3",
        "colab": {
          "base_uri": "https://localhost:8080/",
          "height": 391
        }
      },
      "source": [
        "model = tf.keras.Sequential([\n",
        "    tf.keras.layers.Embedding(vocab_size+1, 100, input_length=max_length),\n",
        "    tf.keras.layers.Bidirectional(tf.keras.layers.LSTM(64, return_sequences=True)),\n",
        "    tf.keras.layers.Dropout(0.1),\n",
        "    tf.keras.layers.Bidirectional(tf.keras.layers.LSTM(32)),\n",
        "    tf.keras.layers.Dropout(0.1),\n",
        "    tf.keras.layers.Dense(64, activation='relu'),\n",
        "    tf.keras.layers.Dense(1, activation='sigmoid')\n",
        "])\n",
        "model.compile(loss='binary_crossentropy',optimizer='adam',metrics=['accuracy'])\n",
        "model.summary()"
      ],
      "execution_count": 101,
      "outputs": [
        {
          "output_type": "stream",
          "text": [
            "Model: \"sequential_14\"\n",
            "_________________________________________________________________\n",
            "Layer (type)                 Output Shape              Param #   \n",
            "=================================================================\n",
            "embedding_14 (Embedding)     (None, 80, 100)           1500100   \n",
            "_________________________________________________________________\n",
            "bidirectional_21 (Bidirectio (None, 80, 128)           84480     \n",
            "_________________________________________________________________\n",
            "dropout_4 (Dropout)          (None, 80, 128)           0         \n",
            "_________________________________________________________________\n",
            "bidirectional_22 (Bidirectio (None, 64)                41216     \n",
            "_________________________________________________________________\n",
            "dropout_5 (Dropout)          (None, 64)                0         \n",
            "_________________________________________________________________\n",
            "dense_29 (Dense)             (None, 64)                4160      \n",
            "_________________________________________________________________\n",
            "dense_30 (Dense)             (None, 1)                 65        \n",
            "=================================================================\n",
            "Total params: 1,630,021\n",
            "Trainable params: 1,630,021\n",
            "Non-trainable params: 0\n",
            "_________________________________________________________________\n"
          ],
          "name": "stdout"
        }
      ]
    },
    {
      "cell_type": "code",
      "metadata": {
        "id": "djz6OmK-n7Nj",
        "colab_type": "code",
        "outputId": "71a9a3eb-1c98-46e3-dc26-c966dc5f6cb3",
        "colab": {
          "base_uri": "https://localhost:8080/",
          "height": 357
        }
      },
      "source": [
        "history = model.fit(X_train, y_train, epochs=num_epochs, validation_data=(X_test, y_test))"
      ],
      "execution_count": 102,
      "outputs": [
        {
          "output_type": "stream",
          "text": [
            "Epoch 1/10\n",
            "1250/1250 [==============================] - 122s 98ms/step - loss: 0.3892 - accuracy: 0.8222 - val_loss: 0.3384 - val_accuracy: 0.8586\n",
            "Epoch 2/10\n",
            "1250/1250 [==============================] - 120s 96ms/step - loss: 0.2388 - accuracy: 0.9051 - val_loss: 0.3333 - val_accuracy: 0.8575\n",
            "Epoch 3/10\n",
            "1250/1250 [==============================] - 119s 96ms/step - loss: 0.1351 - accuracy: 0.9503 - val_loss: 0.4145 - val_accuracy: 0.8493\n",
            "Epoch 4/10\n",
            "1250/1250 [==============================] - 119s 96ms/step - loss: 0.0694 - accuracy: 0.9761 - val_loss: 0.4813 - val_accuracy: 0.8368\n",
            "Epoch 5/10\n",
            "1250/1250 [==============================] - 119s 95ms/step - loss: 0.0407 - accuracy: 0.9866 - val_loss: 0.6737 - val_accuracy: 0.8416\n",
            "Epoch 6/10\n",
            "1250/1250 [==============================] - 119s 95ms/step - loss: 0.0310 - accuracy: 0.9896 - val_loss: 0.7171 - val_accuracy: 0.8278\n",
            "Epoch 7/10\n",
            "1250/1250 [==============================] - 119s 95ms/step - loss: 0.0227 - accuracy: 0.9923 - val_loss: 0.8290 - val_accuracy: 0.8404\n",
            "Epoch 8/10\n",
            "1250/1250 [==============================] - 119s 95ms/step - loss: 0.0155 - accuracy: 0.9947 - val_loss: 0.8669 - val_accuracy: 0.8257\n",
            "Epoch 9/10\n",
            "1250/1250 [==============================] - 119s 95ms/step - loss: 0.0146 - accuracy: 0.9955 - val_loss: 0.9539 - val_accuracy: 0.8321\n",
            "Epoch 10/10\n",
            "1250/1250 [==============================] - 118s 95ms/step - loss: 0.0144 - accuracy: 0.9951 - val_loss: 1.0184 - val_accuracy: 0.8384\n"
          ],
          "name": "stdout"
        }
      ]
    },
    {
      "cell_type": "code",
      "metadata": {
        "id": "yNQvkbJun7QX",
        "colab_type": "code",
        "colab": {}
      },
      "source": [
        "import matplotlib.pyplot as plt\n",
        "\n",
        "def plot_graphs(history, string):\n",
        "  plt.plot(history.history[string])\n",
        "  plt.plot(history.history['val_'+string])\n",
        "  plt.xlabel(\"Epochs\")\n",
        "  plt.ylabel(string)\n",
        "  plt.legend([string, 'val_'+string])\n",
        "  plt.show()"
      ],
      "execution_count": 0,
      "outputs": []
    },
    {
      "cell_type": "code",
      "metadata": {
        "id": "5LQw-3cp6eAE",
        "colab_type": "code",
        "colab": {
          "base_uri": "https://localhost:8080/",
          "height": 279
        },
        "outputId": "d5071f10-4c56-4d03-9e86-eec223d4843b"
      },
      "source": [
        "plot_graphs(history, 'accuracy')"
      ],
      "execution_count": 103,
      "outputs": [
        {
          "output_type": "display_data",
          "data": {
            "image/png": "[encoded data removed]",
            "text/plain": [
              "<Figure size 432x288 with 1 Axes>"
            ]
          },
          "metadata": {
            "tags": [],
            "needs_background": "light"
          }
        }
      ]
    },
    {
      "cell_type": "code",
      "metadata": {
        "id": "MzVSqUpX6hKZ",
        "colab_type": "code",
        "colab": {
          "base_uri": "https://localhost:8080/",
          "height": 279
        },
        "outputId": "88b35d4b-605d-4efc-c075-b4f7e87095e2"
      },
      "source": [
        "plot_graphs(history, 'loss')"
      ],
      "execution_count": 104,
      "outputs": [
        {
          "output_type": "display_data",
          "data": {
            "image/png": "[encoded data removed]",
            "text/plain": [
              "<Figure size 432x288 with 1 Axes>"
            ]
          },
          "metadata": {
            "tags": [],
            "needs_background": "light"
          }
        }
      ]
    },
    {
      "cell_type": "code",
      "metadata": {
        "id": "Fzj9PAS7n66p",
        "colab_type": "code",
        "outputId": "c125e6aa-8548-462e-946d-c0002f595d18",
        "colab": {
          "base_uri": "https://localhost:8080/",
          "height": 279
        }
      },
      "source": [
        "plot_graphs(history, 'accuracy')"
      ],
      "execution_count": 0,
      "outputs": [
        {
          "output_type": "display_data",
          "data": {
            "image/png": "[encoded data removed]",
            "text/plain": [
              "<Figure size 432x288 with 1 Axes>"
            ]
          },
          "metadata": {
            "tags": [],
            "needs_background": "light"
          }
        }
      ]
    },
    {
      "cell_type": "code",
      "metadata": {
        "id": "UnF0SA1Sr19i",
        "colab_type": "code",
        "outputId": "b22c993e-e423-4926-d439-d1a059c2471e",
        "colab": {
          "base_uri": "https://localhost:8080/",
          "height": 279
        }
      },
      "source": [
        "plot_graphs(history, 'loss')"
      ],
      "execution_count": 0,
      "outputs": [
        {
          "output_type": "display_data",
          "data": {
            "image/png": "[encoded data removed]",
            "text/plain": [
              "<Figure size 432x288 with 1 Axes>"
            ]
          },
          "metadata": {
            "tags": [],
            "needs_background": "light"
          }
        }
      ]
    },
    {
      "cell_type": "code",
      "metadata": {
        "id": "PQ3ymiHW2__e",
        "colab_type": "code",
        "outputId": "c1f2228b-a104-4ae3-cb54-1503718a6ef2",
        "colab": {
          "base_uri": "https://localhost:8080/",
          "height": 173
        }
      },
      "source": [
        "reverse_word_index = dict([(value, key) for (key, value) in word_index.items()])\n",
        "\n",
        "def decode_review(text):\n",
        "    return ' '.join([reverse_word_index.get(i, '?') for i in text])\n",
        "\n",
        "print(decode_review(padded[3]))\n",
        "print(X_train[3])"
      ],
      "execution_count": 135,
      "outputs": [
        {
          "output_type": "stream",
          "text": [
            "basically there's family little boy jake thinks there's zombie closet parents fighting time br br this movie slower than soap opera suddenly jake decides become rambo kill zombie br br ok first going make film must decide thriller drama drama movie watchable parents <OOV> arguing like real life jake closet totally ruins film expected see boogeyman similar movie instead watched drama meaningless thriller spots br br 3 10 just well playing parents descent dialogs shots jake just ignore them ?\n",
            "[ 1659   176  3250     1   360  3564 12311  1899     1 11796  8325     1\n",
            "  1164     1   356   880    47  4733 12055 10685 13882     1    34    47\n",
            "  4538   503     9   534  2898 14690  3250  8914   140    38     1 14560\n",
            "     1  1500   798    21   929  1711   948  1279  4017   471   739   208\n",
            "  1283  1747  1690   471   480  1217   408     5   802 13682   745   699\n",
            "  1224     1   181   371    54     1  5721  2741  1657  3425  1553  3530\n",
            "    69   112    61    65   548     4   191    16]\n"
          ],
          "name": "stdout"
        }
      ]
    },
    {
      "cell_type": "code",
      "metadata": {
        "id": "W0WO3Fnt3Hah",
        "colab_type": "code",
        "outputId": "5ef0c629-2724-4988-f84d-a281451bd5c2",
        "colab": {
          "base_uri": "https://localhost:8080/",
          "height": 34
        }
      },
      "source": [
        "e = model.layers[0]\n",
        "weights = e.get_weights()[0]\n",
        "print(weights.shape) # shape: (vocab_size, embedding_dim)"
      ],
      "execution_count": 136,
      "outputs": [
        {
          "output_type": "stream",
          "text": [
            "(15001, 100)\n"
          ],
          "name": "stdout"
        }
      ]
    },
    {
      "cell_type": "code",
      "metadata": {
        "id": "PvV92-Ir2Mn6",
        "colab_type": "code",
        "colab": {}
      },
      "source": [
        "import io\n",
        "\n",
        "out_v = io.open('vecs.tsv', 'w', encoding='utf-8')\n",
        "out_m = io.open('meta.tsv', 'w', encoding='utf-8')\n",
        "for word_num in range(1, vocab_size):\n",
        "  word = reverse_word_index[word_num]\n",
        "  embeddings = weights[word_num]\n",
        "  out_m.write(word + \"\\n\")\n",
        "  out_v.write('\\t'.join([str(x) for x in embeddings]) + \"\\n\")\n",
        "out_v.close()\n",
        "out_m.close()"
      ],
      "execution_count": 0,
      "outputs": []
    },
    {
      "cell_type": "code",
      "metadata": {
        "id": "No6XUp9b3h3H",
        "colab_type": "code",
        "colab": {}
      },
      "source": [
        "try:\n",
        "  from google.colab import files\n",
        "except ImportError:\n",
        "  pass\n",
        "else:\n",
        "  files.download('vecs.tsv')\n",
        "  files.download('meta.tsv')"
      ],
      "execution_count": 0,
      "outputs": []
    },
    {
      "cell_type": "markdown",
      "metadata": {
        "id": "rOqNlyQC-d5Z",
        "colab_type": "text"
      },
      "source": [
        "### Lets try another model"
      ]
    },
    {
      "cell_type": "code",
      "metadata": {
        "id": "V9V9L99d-gzW",
        "colab_type": "code",
        "outputId": "31570c7d-ecf3-41f4-f5e6-834a6f701b2d",
        "colab": {
          "base_uri": "https://localhost:8080/",
          "height": 323
        }
      },
      "source": [
        "conv_model = tf.keras.Sequential([\n",
        "    tf.keras.layers.Embedding(vocab_size, embedding_dim, input_length=max_length),\n",
        "    tf.keras.layers.Conv1D(128, 5, activation='relu'),\n",
        "    tf.keras.layers.GlobalAveragePooling1D(),\n",
        "    tf.keras.layers.Dense(6, activation='relu'),\n",
        "    tf.keras.layers.Dense(1, activation='sigmoid')\n",
        "])\n",
        "conv_model.compile(loss='binary_crossentropy',optimizer='adam',metrics=['accuracy'])\n",
        "conv_model.summary()"
      ],
      "execution_count": 0,
      "outputs": [
        {
          "output_type": "stream",
          "text": [
            "Model: \"sequential_4\"\n",
            "_________________________________________________________________\n",
            "Layer (type)                 Output Shape              Param #   \n",
            "=================================================================\n",
            "embedding_4 (Embedding)      (None, 120, 100)          1000000   \n",
            "_________________________________________________________________\n",
            "conv1d_2 (Conv1D)            (None, 116, 128)          64128     \n",
            "_________________________________________________________________\n",
            "global_average_pooling1d_2 ( (None, 128)               0         \n",
            "_________________________________________________________________\n",
            "dense_8 (Dense)              (None, 6)                 774       \n",
            "_________________________________________________________________\n",
            "dense_9 (Dense)              (None, 1)                 7         \n",
            "=================================================================\n",
            "Total params: 1,064,909\n",
            "Trainable params: 1,064,909\n",
            "Non-trainable params: 0\n",
            "_________________________________________________________________\n"
          ],
          "name": "stdout"
        }
      ]
    },
    {
      "cell_type": "code",
      "metadata": {
        "id": "rnqVXCLq-9_h",
        "colab_type": "code",
        "outputId": "618ebba6-162c-4cb3-a5b7-1ee5ff36a477",
        "colab": {
          "base_uri": "https://localhost:8080/",
          "height": 255
        }
      },
      "source": [
        "history = conv_model.fit(X_train, y_train, epochs=num_epochs, validation_data=(X_test, y_test))"
      ],
      "execution_count": 0,
      "outputs": [
        {
          "output_type": "stream",
          "text": [
            "Epoch 1/7\n",
            "1250/1250 [==============================] - 18s 15ms/step - loss: 0.3889 - accuracy: 0.8214 - val_loss: 0.3323 - val_accuracy: 0.8568\n",
            "Epoch 2/7\n",
            "1250/1250 [==============================] - 19s 15ms/step - loss: 0.2702 - accuracy: 0.8882 - val_loss: 0.3590 - val_accuracy: 0.8483\n",
            "Epoch 3/7\n",
            "1250/1250 [==============================] - 19s 15ms/step - loss: 0.2210 - accuracy: 0.9123 - val_loss: 0.3734 - val_accuracy: 0.8457\n",
            "Epoch 4/7\n",
            "1250/1250 [==============================] - 18s 14ms/step - loss: 0.1767 - accuracy: 0.9342 - val_loss: 0.4114 - val_accuracy: 0.8399\n",
            "Epoch 5/7\n",
            "1250/1250 [==============================] - 18s 14ms/step - loss: 0.1331 - accuracy: 0.9528 - val_loss: 0.4608 - val_accuracy: 0.8356\n",
            "Epoch 6/7\n",
            "1250/1250 [==============================] - 18s 14ms/step - loss: 0.0923 - accuracy: 0.9688 - val_loss: 0.5580 - val_accuracy: 0.8336\n",
            "Epoch 7/7\n",
            "1250/1250 [==============================] - 18s 14ms/step - loss: 0.0633 - accuracy: 0.9781 - val_loss: 0.6702 - val_accuracy: 0.8233\n"
          ],
          "name": "stdout"
        }
      ]
    },
    {
      "cell_type": "code",
      "metadata": {
        "id": "alHSGGZ-_sOA",
        "colab_type": "code",
        "outputId": "c5ee8a4b-d3a4-476e-9f37-a9e44e6034f3",
        "colab": {
          "base_uri": "https://localhost:8080/",
          "height": 279
        }
      },
      "source": [
        "plot_graphs(history, 'accuracy')"
      ],
      "execution_count": 0,
      "outputs": [
        {
          "output_type": "display_data",
          "data": {
            "image/png": "[encoded data removed]",
            "text/plain": [
              "<Figure size 432x288 with 1 Axes>"
            ]
          },
          "metadata": {
            "tags": [],
            "needs_background": "light"
          }
        }
      ]
    },
    {
      "cell_type": "code",
      "metadata": {
        "id": "oYT3e3ub_ys_",
        "colab_type": "code",
        "outputId": "a1bde224-2572-47f2-bda2-6614f22b5220",
        "colab": {
          "base_uri": "https://localhost:8080/",
          "height": 283
        }
      },
      "source": [
        "plot_graphs(history, 'loss')"
      ],
      "execution_count": 0,
      "outputs": [
        {
          "output_type": "display_data",
          "data": {
            "image/png": "[encoded data removed]",
            "text/plain": [
              "<Figure size 432x288 with 1 Axes>"
            ]
          },
          "metadata": {
            "tags": [],
            "needs_background": "light"
          }
        }
      ]
    },
    {
      "cell_type": "code",
      "metadata": {
        "id": "7ixy46c5Amlg",
        "colab_type": "code",
        "colab": {}
      },
      "source": [
        "def prepare_to_prediction(text): #text should be np.array type\n",
        "  text[0] = text[0].lower()\n",
        "  temp = text[0].split()\n",
        "  temp = [word for word in temp if not word in stop_words]\n",
        "  text[0] = \" \".join(temp)\n",
        "  t_sequence = tokenizer.texts_to_sequences(text)\n",
        "  t_padded = pad_sequences(t_sequence, maxlen=max_length, padding='post', truncating='post')\n",
        "  return t_padded"
      ],
      "execution_count": 0,
      "outputs": []
    },
    {
      "cell_type": "code",
      "metadata": {
        "id": "_UIU1W7fCsE1",
        "colab_type": "code",
        "colab": {}
      },
      "source": [
        "text = np.array([\"i really hate this film. the actor was bad and in general it was boring. my wife also disliked the film as it was horrible\"])\n",
        "text = prepare_to_prediction(text)"
      ],
      "execution_count": 0,
      "outputs": []
    },
    {
      "cell_type": "code",
      "metadata": {
        "id": "SO8y6HTIBYZY",
        "colab_type": "code",
        "colab": {
          "base_uri": "https://localhost:8080/",
          "height": 34
        },
        "outputId": "2a974708-ded2-4923-c258-f48497fc4a7d"
      },
      "source": [
        "predicted_number = model.predict(text)[0][0]\n",
        "print(round(predicted_number, 4))"
      ],
      "execution_count": 134,
      "outputs": [
        {
          "output_type": "stream",
          "text": [
            "0.0\n"
          ],
          "name": "stdout"
        }
      ]
    },
    {
      "cell_type": "code",
      "metadata": {
        "id": "3gcFnlsLEUYh",
        "colab_type": "code",
        "colab": {}
      },
      "source": [
        ""
      ],
      "execution_count": 0,
      "outputs": []
    }
  ]
}
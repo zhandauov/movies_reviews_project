{
 "cells": [
  {
   "cell_type": "code",
   "execution_count": 2,
   "metadata": {},
   "outputs": [],
   "source": [
    "from tensorflow.keras.preprocessing.sequence import pad_sequences\n",
    "from tensorflow.keras.layers import Embedding, LSTM, Dense, Dropout, Bidirectional\n",
    "from tensorflow.keras.preprocessing.text import Tokenizer\n",
    "from tensorflow.keras.models import Sequential\n",
    "from tensorflow.keras.optimizers import Adam\n",
    "from tensorflow.keras import regularizers\n",
    "import tensorflow.keras.utils as ku \n",
    "import numpy as np\n",
    "import pandas as pd"
   ]
  },
  {
   "cell_type": "code",
   "execution_count": 33,
   "metadata": {},
   "outputs": [],
   "source": [
    "text = pd.read_csv('data/lyrics.csv')"
   ]
  },
  {
   "cell_type": "code",
   "execution_count": 118,
   "metadata": {},
   "outputs": [],
   "source": [
    "lyrics = text[text['artist'] == '2pac']"
   ]
  },
  {
   "cell_type": "code",
   "execution_count": 119,
   "metadata": {},
   "outputs": [
    {
     "data": {
      "text/html": [
       "<div>\n",
       "<style scoped>\n",
       "    .dataframe tbody tr th:only-of-type {\n",
       "        vertical-align: middle;\n",
       "    }\n",
       "\n",
       "    .dataframe tbody tr th {\n",
       "        vertical-align: top;\n",
       "    }\n",
       "\n",
       "    .dataframe thead th {\n",
       "        text-align: right;\n",
       "    }\n",
       "</style>\n",
       "<table border=\"1\" class=\"dataframe\">\n",
       "  <thead>\n",
       "    <tr style=\"text-align: right;\">\n",
       "      <th></th>\n",
       "      <th>index</th>\n",
       "      <th>song</th>\n",
       "      <th>year</th>\n",
       "      <th>artist</th>\n",
       "      <th>genre</th>\n",
       "      <th>lyrics</th>\n",
       "    </tr>\n",
       "  </thead>\n",
       "  <tbody>\n",
       "    <tr>\n",
       "      <th>126937</th>\n",
       "      <td>126937</td>\n",
       "      <td>snoop-dogg</td>\n",
       "      <td>2009</td>\n",
       "      <td>2pac</td>\n",
       "      <td>Hip-Hop</td>\n",
       "      <td>NaN</td>\n",
       "    </tr>\n",
       "    <tr>\n",
       "      <th>126938</th>\n",
       "      <td>126938</td>\n",
       "      <td>just-watching</td>\n",
       "      <td>2009</td>\n",
       "      <td>2pac</td>\n",
       "      <td>Hip-Hop</td>\n",
       "      <td>(2Pac talking)Niggas be paranoid looking at a ...</td>\n",
       "    </tr>\n",
       "    <tr>\n",
       "      <th>126939</th>\n",
       "      <td>126939</td>\n",
       "      <td>what-you-won-t-do-4-love</td>\n",
       "      <td>2009</td>\n",
       "      <td>2pac</td>\n",
       "      <td>Hip-Hop</td>\n",
       "      <td>(verse 1)\\nI lay awake tonight because I want ...</td>\n",
       "    </tr>\n",
       "    <tr>\n",
       "      <th>126940</th>\n",
       "      <td>126940</td>\n",
       "      <td>smoke-weed-all-day</td>\n",
       "      <td>2009</td>\n",
       "      <td>2pac</td>\n",
       "      <td>Hip-Hop</td>\n",
       "      <td>[Richie Rich] Pac\\n[Tupac] Hey\\n[Richie Rich] ...</td>\n",
       "    </tr>\n",
       "    <tr>\n",
       "      <th>126941</th>\n",
       "      <td>126941</td>\n",
       "      <td>out-on-bail</td>\n",
       "      <td>2004</td>\n",
       "      <td>2pac</td>\n",
       "      <td>Hip-Hop</td>\n",
       "      <td>Oh, I posted bail?\\nI'm out this motherfucker?...</td>\n",
       "    </tr>\n",
       "    <tr>\n",
       "      <th>...</th>\n",
       "      <td>...</td>\n",
       "      <td>...</td>\n",
       "      <td>...</td>\n",
       "      <td>...</td>\n",
       "      <td>...</td>\n",
       "      <td>...</td>\n",
       "    </tr>\n",
       "    <tr>\n",
       "      <th>127318</th>\n",
       "      <td>127318</td>\n",
       "      <td>apocalypse</td>\n",
       "      <td>2014</td>\n",
       "      <td>2pac</td>\n",
       "      <td>Hip-Hop</td>\n",
       "      <td>NaN</td>\n",
       "    </tr>\n",
       "    <tr>\n",
       "      <th>127319</th>\n",
       "      <td>127319</td>\n",
       "      <td>birdie</td>\n",
       "      <td>2014</td>\n",
       "      <td>2pac</td>\n",
       "      <td>Hip-Hop</td>\n",
       "      <td>NaN</td>\n",
       "    </tr>\n",
       "    <tr>\n",
       "      <th>127320</th>\n",
       "      <td>127320</td>\n",
       "      <td>static-ii-remix-2</td>\n",
       "      <td>2014</td>\n",
       "      <td>2pac</td>\n",
       "      <td>Hip-Hop</td>\n",
       "      <td>NaN</td>\n",
       "    </tr>\n",
       "    <tr>\n",
       "      <th>127321</th>\n",
       "      <td>127321</td>\n",
       "      <td>silver-screen</td>\n",
       "      <td>2014</td>\n",
       "      <td>2pac</td>\n",
       "      <td>Hip-Hop</td>\n",
       "      <td>NaN</td>\n",
       "    </tr>\n",
       "    <tr>\n",
       "      <th>127322</th>\n",
       "      <td>127322</td>\n",
       "      <td>shining-serpent</td>\n",
       "      <td>2014</td>\n",
       "      <td>2pac</td>\n",
       "      <td>Hip-Hop</td>\n",
       "      <td>NaN</td>\n",
       "    </tr>\n",
       "  </tbody>\n",
       "</table>\n",
       "<p>386 rows × 6 columns</p>\n",
       "</div>"
      ],
      "text/plain": [
       "         index                      song  year artist    genre  \\\n",
       "126937  126937                snoop-dogg  2009   2pac  Hip-Hop   \n",
       "126938  126938             just-watching  2009   2pac  Hip-Hop   \n",
       "126939  126939  what-you-won-t-do-4-love  2009   2pac  Hip-Hop   \n",
       "126940  126940        smoke-weed-all-day  2009   2pac  Hip-Hop   \n",
       "126941  126941               out-on-bail  2004   2pac  Hip-Hop   \n",
       "...        ...                       ...   ...    ...      ...   \n",
       "127318  127318                apocalypse  2014   2pac  Hip-Hop   \n",
       "127319  127319                    birdie  2014   2pac  Hip-Hop   \n",
       "127320  127320         static-ii-remix-2  2014   2pac  Hip-Hop   \n",
       "127321  127321             silver-screen  2014   2pac  Hip-Hop   \n",
       "127322  127322           shining-serpent  2014   2pac  Hip-Hop   \n",
       "\n",
       "                                                   lyrics  \n",
       "126937                                                NaN  \n",
       "126938  (2Pac talking)Niggas be paranoid looking at a ...  \n",
       "126939  (verse 1)\\nI lay awake tonight because I want ...  \n",
       "126940  [Richie Rich] Pac\\n[Tupac] Hey\\n[Richie Rich] ...  \n",
       "126941  Oh, I posted bail?\\nI'm out this motherfucker?...  \n",
       "...                                                   ...  \n",
       "127318                                                NaN  \n",
       "127319                                                NaN  \n",
       "127320                                                NaN  \n",
       "127321                                                NaN  \n",
       "127322                                                NaN  \n",
       "\n",
       "[386 rows x 6 columns]"
      ]
     },
     "execution_count": 119,
     "metadata": {},
     "output_type": "execute_result"
    }
   ],
   "source": [
    "lyrics"
   ]
  },
  {
   "cell_type": "code",
   "execution_count": 120,
   "metadata": {},
   "outputs": [],
   "source": [
    "lyrics = lyrics['lyrics']\n",
    "lyrics = lyrics.dropna()"
   ]
  },
  {
   "cell_type": "code",
   "execution_count": 121,
   "metadata": {},
   "outputs": [],
   "source": [
    "lyrics = lyrics.reset_index()\n",
    "lyrics = lyrics.drop(['index'], axis = 1)"
   ]
  },
  {
   "cell_type": "code",
   "execution_count": 122,
   "metadata": {},
   "outputs": [
    {
     "data": {
      "text/html": [
       "<div>\n",
       "<style scoped>\n",
       "    .dataframe tbody tr th:only-of-type {\n",
       "        vertical-align: middle;\n",
       "    }\n",
       "\n",
       "    .dataframe tbody tr th {\n",
       "        vertical-align: top;\n",
       "    }\n",
       "\n",
       "    .dataframe thead th {\n",
       "        text-align: right;\n",
       "    }\n",
       "</style>\n",
       "<table border=\"1\" class=\"dataframe\">\n",
       "  <thead>\n",
       "    <tr style=\"text-align: right;\">\n",
       "      <th></th>\n",
       "      <th>lyrics</th>\n",
       "    </tr>\n",
       "  </thead>\n",
       "  <tbody>\n",
       "    <tr>\n",
       "      <th>0</th>\n",
       "      <td>(2Pac talking)Niggas be paranoid looking at a ...</td>\n",
       "    </tr>\n",
       "    <tr>\n",
       "      <th>1</th>\n",
       "      <td>(verse 1)\\nI lay awake tonight because I want ...</td>\n",
       "    </tr>\n",
       "    <tr>\n",
       "      <th>2</th>\n",
       "      <td>[Richie Rich] Pac\\n[Tupac] Hey\\n[Richie Rich] ...</td>\n",
       "    </tr>\n",
       "    <tr>\n",
       "      <th>3</th>\n",
       "      <td>Oh, I posted bail?\\nI'm out this motherfucker?...</td>\n",
       "    </tr>\n",
       "    <tr>\n",
       "      <th>4</th>\n",
       "      <td>Maybe it's the thug in me\\nMaybe it's the thug...</td>\n",
       "    </tr>\n",
       "    <tr>\n",
       "      <th>...</th>\n",
       "      <td>...</td>\n",
       "    </tr>\n",
       "    <tr>\n",
       "      <th>362</th>\n",
       "      <td>Got me up against the fence, back against the ...</td>\n",
       "    </tr>\n",
       "    <tr>\n",
       "      <th>363</th>\n",
       "      <td>What more could I say, I wouldn't be here toda...</td>\n",
       "    </tr>\n",
       "    <tr>\n",
       "      <th>364</th>\n",
       "      <td>The nights grow cold\\nMy search for gold is le...</td>\n",
       "    </tr>\n",
       "    <tr>\n",
       "      <th>365</th>\n",
       "      <td>Every night - a different town - I sing my son...</td>\n",
       "    </tr>\n",
       "    <tr>\n",
       "      <th>366</th>\n",
       "      <td>How do you want it? How does it feel?\\nComin' ...</td>\n",
       "    </tr>\n",
       "  </tbody>\n",
       "</table>\n",
       "<p>367 rows × 1 columns</p>\n",
       "</div>"
      ],
      "text/plain": [
       "                                                lyrics\n",
       "0    (2Pac talking)Niggas be paranoid looking at a ...\n",
       "1    (verse 1)\\nI lay awake tonight because I want ...\n",
       "2    [Richie Rich] Pac\\n[Tupac] Hey\\n[Richie Rich] ...\n",
       "3    Oh, I posted bail?\\nI'm out this motherfucker?...\n",
       "4    Maybe it's the thug in me\\nMaybe it's the thug...\n",
       "..                                                 ...\n",
       "362  Got me up against the fence, back against the ...\n",
       "363  What more could I say, I wouldn't be here toda...\n",
       "364  The nights grow cold\\nMy search for gold is le...\n",
       "365  Every night - a different town - I sing my son...\n",
       "366  How do you want it? How does it feel?\\nComin' ...\n",
       "\n",
       "[367 rows x 1 columns]"
      ]
     },
     "execution_count": 122,
     "metadata": {},
     "output_type": "execute_result"
    }
   ],
   "source": [
    "lyrics"
   ]
  },
  {
   "cell_type": "code",
   "execution_count": 156,
   "metadata": {},
   "outputs": [
    {
     "data": {
      "text/plain": [
       "\"(2Pac talking)Niggas be paranoid looking at a nigga all crazy Im just looking Im just looking baby\\nCome On\\n(DPG talking)All I need is some henny\\n(2Pac)\\nTo me its hard to tell what you really want\\nQuit acting mean to me\\nYou teasing me the way you flaunt\\nBut you aint hearing me\\nSincerely Im so attracted pictures of target practice\\nMaking love on my mattress visions getting graphic\\nSo realistic you could grab it Its a proven fact\\nBaby gotta have it\\nMy love making quite magic\\nTrix is for kids bunny rabbit\\nLet a man have it\\nBut youd be satisfied if you tried my habit\\nHigh performance hard to handle\\nThinking in the bubble bath while Im burning candles\\nSex me like the slow song\\nIf fucking you is bad baby then Im so wrong\\nMy feelings so strong\\nI keep staring like you cant see me\\nI never planned a scam my thoughts ran freely\\nThere's no need to be paranoid\\nAint nothing popping\\nI aint worried bout your man baby girl cause Im just watching\\nChorusx5\\nJust watching not buying anything\""
      ]
     },
     "execution_count": 156,
     "metadata": {},
     "output_type": "execute_result"
    }
   ],
   "source": [
    "lyrics.iloc[0][0]"
   ]
  },
  {
   "cell_type": "code",
   "execution_count": 153,
   "metadata": {},
   "outputs": [],
   "source": [
    "import re\n",
    "prepared_data = np.array([])\n",
    "obsolete_elements = ['.', ',' , '-', '?', '!']\n",
    "\n",
    "for i in range(len(lyrics)):\n",
    "    song = lyrics.iloc[i][0]\n",
    "    for element in obsolete_elements:\n",
    "        song = song.replace(element, ' ')\n",
    "    song = song.replace('\\n', ' ')\n",
    "    song = re.sub('\\([^\\)\\(]*\\)', '', song)\n",
    "    song = re.sub('\\[[^\\[\\]]*\\]', '', song)\n",
    "    \n",
    "    prepared_data = np.append(prepared_data, song)"
   ]
  },
  {
   "cell_type": "code",
   "execution_count": 148,
   "metadata": {},
   "outputs": [
    {
     "data": {
      "text/plain": [
       "(367,)"
      ]
     },
     "execution_count": 148,
     "metadata": {},
     "output_type": "execute_result"
    }
   ],
   "source": [
    "prepared_data.shape"
   ]
  },
  {
   "cell_type": "code",
   "execution_count": 155,
   "metadata": {},
   "outputs": [
    {
     "data": {
      "text/plain": [
       "\"Niggas be paranoid looking at a nigga all crazy Im just looking Im just looking baby Come On All I need is some henny  To me its hard to tell what you really want Quit acting mean to me You teasing me the way you flaunt But you aint hearing me Sincerely Im so attracted pictures of target practice Making love on my mattress visions getting graphic So realistic you could grab it Its a proven fact Baby gotta have it My love making quite magic Trix is for kids bunny rabbit Let a man have it But youd be satisfied if you tried my habit High performance hard to handle Thinking in the bubble bath while Im burning candles Sex me like the slow song If fucking you is bad baby then Im so wrong My feelings so strong I keep staring like you cant see me I never planned a scam my thoughts ran freely There's no need to be paranoid Aint nothing popping I aint worried bout your man baby girl cause Im just watching Chorusx5 Just watching not buying anything\""
      ]
     },
     "execution_count": 155,
     "metadata": {},
     "output_type": "execute_result"
    }
   ],
   "source": [
    "prepared_data[0]"
   ]
  },
  {
   "cell_type": "code",
   "execution_count": 157,
   "metadata": {},
   "outputs": [
    {
     "name": "stdout",
     "output_type": "stream",
     "text": [
      "Collecting plotly\n",
      "  Downloading plotly-4.6.0-py2.py3-none-any.whl (7.1 MB)\n",
      "Collecting retrying>=1.3.3\n",
      "  Downloading retrying-1.3.3.tar.gz (10 kB)\n",
      "Requirement already satisfied: six in d:\\ana\\lib\\site-packages (from plotly) (1.14.0)\n",
      "Building wheels for collected packages: retrying\n",
      "  Building wheel for retrying (setup.py): started\n",
      "  Building wheel for retrying (setup.py): finished with status 'done'\n",
      "  Created wheel for retrying: filename=retrying-1.3.3-py3-none-any.whl size=11434 sha256=cd8ad04b9813c1c5b34f0b2839fc10c99c3590e35341d17c58017fe7380e5f21\n",
      "  Stored in directory: c:\\users\\zhang\\appdata\\local\\pip\\cache\\wheels\\f9\\8d\\8d\\f6af3f7f9eea3553bc2fe6d53e4b287dad18b06a861ac56ddf\n",
      "Successfully built retrying\n",
      "Installing collected packages: retrying, plotly\n",
      "Successfully installed plotly-4.6.0 retrying-1.3.3\n"
     ]
    }
   ],
   "source": [
    "!pip install plotly"
   ]
  },
  {
   "cell_type": "code",
   "execution_count": null,
   "metadata": {},
   "outputs": [],
   "source": []
  }
 ],
 "metadata": {
  "kernelspec": {
   "display_name": "Python 3",
   "language": "python",
   "name": "python3"
  },
  "language_info": {
   "codemirror_mode": {
    "name": "ipython",
    "version": 3
   },
   "file_extension": ".py",
   "mimetype": "text/x-python",
   "name": "python",
   "nbconvert_exporter": "python",
   "pygments_lexer": "ipython3",
   "version": "3.7.6"
  }
 },
 "nbformat": 4,
 "nbformat_minor": 4
}
